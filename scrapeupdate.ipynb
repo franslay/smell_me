{
 "cells": [
  {
   "cell_type": "code",
   "execution_count": 2,
   "metadata": {},
   "outputs": [
    {
     "name": "stderr",
     "output_type": "stream",
     "text": [
      "/usr/lib/python3/dist-packages/bs4/__init__.py:181: UserWarning: No parser was explicitly specified, so I'm using the best available HTML parser for this system (\"lxml\"). This usually isn't a problem, but if you run this code on another system, or in a different virtual environment, it may use a different parser and behave differently.\n",
      "\n",
      "The code that caused this warning is on line 193 of the file /usr/lib/python3.6/runpy.py. To get rid of this warning, change code that looks like this:\n",
      "\n",
      " BeautifulSoup(YOUR_MARKUP})\n",
      "\n",
      "to this:\n",
      "\n",
      " BeautifulSoup(YOUR_MARKUP, \"lxml\")\n",
      "\n",
      "  markup_type=markup_type))\n",
      "UsageError: Line magic function `%%writefile` not found.\n"
     ]
    }
   ],
   "source": [
    "from bs4 import BeautifulSoup\n",
    "import urllib\n",
    "import re\n",
    "from urllib.request import Request, urlopen\n",
    "\n",
    "req = Request('https://www.basenotes.net/fragrancereviews/fragrance/26132812', headers={'User-Agent': 'Mozilla/5.0'})\n",
    "webpage = urlopen(req).read()\n",
    "\n",
    "#r = urllib.request.urlopen('https://www.basenotes.net/').read()\n",
    "soup = BeautifulSoup(webpage)\n",
    "\n",
    "#for review in soup.findAll('div', attrs={'class':'reviewblurb'}):\n",
    "\n",
    "%%writefile example.txt\n",
    "\n",
    "print(\"***POSITIVE REVIEWS***\")\n",
    "print(\"----------\")\n",
    "for review in soup.findAll('div', attrs={'class':'reviewmain review3'}): # positive = review3\n",
    "    comment = review.find('div', attrs={'class':'reviewblurb'}) # review comment \n",
    "    print(comment.text) # \".text\" grabs just the text inside HTML tag\n",
    "    print(\"----------\")\n",
    "\n",
    "print()\n",
    "print(\"***NEGATIVE REVIEWS***\")\n",
    "print(\"----------\")\n",
    "for review in soup.findAll('div', attrs={'class':'reviewmain review1'}): # negative = review1 \n",
    "    comment = review.find('div', attrs={'class':'reviewblurb'}) # review comment\n",
    "    print(comment.text) # \".text\" grabs just the text inside HTML tag\n",
    "    print(\"----------\")\n",
    "\n",
    "print()\n",
    "print(\"***NEUTRAL REVIEWS***\")\n",
    "print(\"----------\")\n",
    "for review in soup.findAll('div', attrs={'class':'reviewmain review2'}): # negative = review1 \n",
    "    comment = review.find('div', attrs={'class':'reviewblurb'}) # review comment\n",
    "    print(comment.text) # \".text\" grabs just the text inside HTML tag\n",
    "    print(\"----------\")\n",
    "    "
   ]
  },
  {
   "cell_type": "code",
   "execution_count": 1,
   "metadata": {},
   "outputs": [
    {
     "ename": "NameError",
     "evalue": "name 'q' is not defined",
     "output_type": "error",
     "traceback": [
      "\u001b[0;31m---------------------------------------------------------------------------\u001b[0m",
      "\u001b[0;31mNameError\u001b[0m                                 Traceback (most recent call last)",
      "\u001b[0;32m<ipython-input-1-996617e96a38>\u001b[0m in \u001b[0;36m<module>\u001b[0;34m\u001b[0m\n\u001b[0;32m----> 1\u001b[0;31m \u001b[0mprint\u001b[0m\u001b[0;34m(\u001b[0m\u001b[0mq\u001b[0m\u001b[0;34m)\u001b[0m\u001b[0;34m\u001b[0m\u001b[0;34m\u001b[0m\u001b[0m\n\u001b[0m",
      "\u001b[0;31mNameError\u001b[0m: name 'q' is not defined"
     ]
    }
   ],
   "source": [
    "python "
   ]
  },
  {
   "cell_type": "code",
   "execution_count": null,
   "metadata": {},
   "outputs": [],
   "source": [
    "\n"
   ]
  }
 ],
 "metadata": {
  "kernelspec": {
   "display_name": "Python 3",
   "language": "python",
   "name": "python3"
  },
  "language_info": {
   "codemirror_mode": {
    "name": "ipython",
    "version": 3
   },
   "file_extension": ".py",
   "mimetype": "text/x-python",
   "name": "python",
   "nbconvert_exporter": "python",
   "pygments_lexer": "ipython3",
   "version": "3.6.9"
  }
 },
 "nbformat": 4,
 "nbformat_minor": 4
}
